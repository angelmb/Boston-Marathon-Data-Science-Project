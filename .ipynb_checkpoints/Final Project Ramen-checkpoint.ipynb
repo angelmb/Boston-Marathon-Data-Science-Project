{
 "cells": [
  {
   "cell_type": "markdown",
   "metadata": {},
   "source": [
    "# Where should you open your ramen shop   \n",
    "\n",
    "## Datasets - Yelp Dataset\n",
    "- 4.1M reviews and 947K tips by 1M users for 144K businesses\n",
    "- 1.1M business attributes, e.g., hours, parking availability, ambience.\n",
    "- Aggregated check-ins over time for each of the 125K businesses\n",
    "- Cities included\n",
    "U.K.: Edinburgh\n",
    "Germany: Karlsruhe\n",
    "Canada: Montreal and Waterloo\n",
    "U.S.: Pittsburgh, Charlotte, Urbana-Champaign, Phoenix, Las Vegas, Madison, Cleveland\n",
    "\n",
    "#### General descriptive statistics based on the datasets \n",
    "- Number of restaurants that serve Ramen by city\n",
    "- Top 20 Ramen restaurants based on rating (number of reviews weighted)\n",
    "- The average rating of ramen restaurants in selected cities \n",
    "- Top 3 cities with the most ramen restaurants\n",
    "- Top 3 cities with the most highly rated (4 stars or above) ramen restaurants\n",
    "\n",
    "\n",
    "#### Avoid cities with lots of ramen shops?\n",
    "The hypothesis is that opening shop in cities with the most ramen shops will be more challenging, since  customers tend to set a higher bar when they are offered many options. We can test this hypothesis by comparing the overall rating of cities with lots of ramen shops to that of cities with less ramen shops.  \n",
    "\n",
    "#### Avoid cities with the most highly rated ramen shops?\n",
    "The hypothesis is that opening shop in cities with the most highly rated ramen shops will be more challenging, since  the competition is tougher. \n",
    "\n",
    "#### Do cities with a younger overall population more likely to get on the ramen bandwagon? \n",
    "The hypothesis is that younger people are more open to trying new cruisine. The ramen trend also hasn't caught on till early 2010s. It is likley that cities with more young people are more receptive to new ramen shops.\n",
    "\n",
    "#### Do cities with a larger Asian population more likely to welcome a new ramen shop?\n",
    "The hypothesis is that people are more drawn to their own cruisine, so it is likely that cities with a large Asian / Asian American population will provide a larger client base.\n",
    "\n",
    "#### Do cities with a large student population more likely to get on the ramen bandwagon? \n",
    "The hypothesis is that students are generally on a tighter budget. Since ramen is traditionally considered to be a cheaper meal, it is likley that cities with more young people are more receptive to new ramen shops. Also, most ramen places open till late (late-night food), and students are generally the major clientele for late night food spot. \n",
    "\n",
    "#### Possible Challenges:\n",
    "- Missing data\n",
    "- Cleaning different data structures across datasets from different sources\n",
    "- Consistence between datasets\n",
    "- Some of the selected cities might not have enough exisitng ramen shops to even provide adequate data for analysis\n",
    "- Taking into consideration the number of reviews when calculating actual \"real\" rating for a restaurant \n",
    "- Datasets only contain restaurants from selected cities. Some of the most popular ramen cities (i.e. NYC, SF, LA, etc) are not included. This makes our prediction less reliable because of the potentially skewed data.\n",
    "\n",
    "\n"
   ]
  },
  {
   "cell_type": "code",
   "execution_count": 4,
   "metadata": {
    "collapsed": true
   },
   "outputs": [],
   "source": [
    "import pandas as pd\n",
    "import numpy as np\n",
    "from matplotlib import pyplot as plt\n",
    "import seaborn as sns\n",
    "\n",
    "%matplotlib inline"
   ]
  },
  {
   "cell_type": "code",
   "execution_count": null,
   "metadata": {
    "collapsed": true
   },
   "outputs": [],
   "source": []
  },
  {
   "cell_type": "code",
   "execution_count": null,
   "metadata": {
    "collapsed": true
   },
   "outputs": [],
   "source": []
  }
 ],
 "metadata": {
  "kernelspec": {
   "display_name": "Python 3",
   "language": "python",
   "name": "python3"
  },
  "language_info": {
   "codemirror_mode": {
    "name": "ipython",
    "version": 3
   },
   "file_extension": ".py",
   "mimetype": "text/x-python",
   "name": "python",
   "nbconvert_exporter": "python",
   "pygments_lexer": "ipython3",
   "version": "3.6.3"
  }
 },
 "nbformat": 4,
 "nbformat_minor": 2
}
